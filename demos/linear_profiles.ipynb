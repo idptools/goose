{
 "cells": [
  {
   "cell_type": "markdown",
   "id": "4123af79",
   "metadata": {},
   "source": [
    "# Linear profiles with SequenceOptimizer\n",
    "\n",
    "This notebook demonstrates using the linear profile functionality in GOOSE. In this demo, we will:\n",
    "- Create sequences where we optimize properties over a sliding window based on a starting sequence\n",
    "- Create sequences where we optimize properties over a sliding window towards arbitrarily created profiles\n",
    "- Visualize results\n"
   ]
  },
  {
   "cell_type": "code",
   "execution_count": null,
   "id": "854508eb",
   "metadata": {},
   "outputs": [],
   "source": [
    "import goose\n",
    "from goose.optimize import SequenceOptimizer\n",
    "import sparrow\n",
    "from sparrow import Protein\n",
    "import numpy as np\n",
    "import matplotlib.pyplot as plt\n",
    "import random"
   ]
  },
  {
   "cell_type": "markdown",
   "id": "b5aede1b",
   "metadata": {},
   "source": [
    "# Example 1: Matching the linear profile of NCPR in the G3BP1 IDR"
   ]
  },
  {
   "cell_type": "code",
   "execution_count": null,
   "id": "15a8a3a4",
   "metadata": {},
   "outputs": [],
   "source": [
    "g3bp1='MVMEKPSPLLVGREFVRQYYTLLNQAPDMLHRFYGKNSSYVHGGLDSNGKPADAVYGQKEIHRKVMSQNFTNCHTKIRHVDAHATLNDGVVVQVMGLLSNNNQALRRFMQTFVLAPEGSVANKFYVHNDIFRYQDEVFGGFVTEPQEESEEEVEEPEERQQTPEVVPDDSGTFYDQAVVSNDMEEHLEEPVAEPEPDPEPEPEQEPVSEIQEEKPEPVLEETAPEDAQKSSSPAPADIAQTVQEDLRTFSWASVTSKNLPPSGAVPVTGIPPHVVKVPASQPRPESKPESQIPPQRPQRDQRVREQRINIPPQRGPRPIREAGEQGDIEPRRMVRHPDSHQLFIGNLPHEVDKSELKDFFQSYGNVVELRINSGGKLPNFGFVVFDDSEPVQKVLSNRPIMFRGEVRLNVEEKKTRAAREGDRRDNRLRGPGGPRGGLGGGMRGPPRGGMVQKPGFGVGRGLAPRQ'\n",
    "g3bp1_idr = g3bp1[130:342] # predicted from metapredict v3"
   ]
  },
  {
   "cell_type": "code",
   "execution_count": null,
   "id": "a024e6a4",
   "metadata": {},
   "outputs": [],
   "source": [
    "optimizer=SequenceOptimizer(\n",
    "                            target_length=len(g3bp1_idr),\n",
    "                            max_iterations=4000)\n",
    "\n",
    "optimizer.add_property(goose.NCPR,\n",
    "                       calculate_as_linear_profile=True,\n",
    "                       target_sequence=g3bp1_idr,\n",
    "                       tolerance=0.05,\n",
    "                       window_size=5)\n",
    "\n",
    "optimizer.add_property(goose.FractionDisorder,\n",
    "                       target_value=1)\n",
    "\n",
    "test_seq = optimizer.run()"
   ]
  },
  {
   "cell_type": "code",
   "execution_count": null,
   "id": "b8a612e3",
   "metadata": {},
   "outputs": [],
   "source": [
    "fig, ax1 = plt.subplots(1,1,figsize=(5,3),sharex=True, sharey=True)\n",
    "g3bp1_profile = [Protein(g3bp1_idr[i:i+5]).NCPR for i in range(len(g3bp1_idr)-4)]\n",
    "var_profile = [Protein(test_seq[i:i+5]).NCPR for i in range(len(test_seq)-4)]\n",
    "ax1.plot(g3bp1_profile, label='G3BP1 NCPR profile', color='blue')\n",
    "ax1.plot(var_profile, label='Variant sequence NCPR profile', color='orange')\n",
    "ax1.set_ylabel('NCPR')\n",
    "ax1.set_xlabel('Residue index')\n",
    "ax1.legend()\n",
    "plt.suptitle('NCPR profiles of G3BP1 IDR and variant sequence')\n",
    "plt.tight_layout()\n",
    "plt.show()"
   ]
  },
  {
   "cell_type": "markdown",
   "id": "6bbeb416",
   "metadata": {},
   "source": [
    "# Example 2: Matching the NCPR to a cosine wave profile"
   ]
  },
  {
   "cell_type": "code",
   "execution_count": null,
   "id": "3324b0bf",
   "metadata": {},
   "outputs": [],
   "source": [
    "def create_cosine_wave(duration, frequency, sample_rate):\n",
    "    \"\"\"\n",
    "    Generates a cosine wave of arbitrary length.\n",
    "\n",
    "    Args:\n",
    "        duration (float): The total duration of the wave in seconds.\n",
    "        frequency (float): The frequency of the wave in Hertz (Hz).\n",
    "        sample_rate (int): The number of data points per second.\n",
    "\n",
    "    Returns:\n",
    "        tuple: A tuple containing the time axis and the cosine wave data.\n",
    "    \"\"\"\n",
    "    # Create the time axis array with evenly spaced values\n",
    "    num_samples = int(duration * sample_rate)\n",
    "    time = np.linspace(0, duration, num_samples, endpoint=False)\n",
    "    \n",
    "    # Generate the cosine wave\n",
    "    # The formula for a cosine wave is A * cos(2 * pi * f * t + phase)\n",
    "    # Here, we use a default amplitude of 1 and a phase of 0.\n",
    "    amplitude = np.cos(2 * np.pi * frequency * time)\n",
    "    \n",
    "    return time, amplitude"
   ]
  },
  {
   "cell_type": "code",
   "execution_count": null,
   "id": "c0684147",
   "metadata": {},
   "outputs": [],
   "source": [
    "time, amplitude = create_cosine_wave(1, 2, 100)"
   ]
  },
  {
   "cell_type": "code",
   "execution_count": null,
   "id": "3acbdb5b",
   "metadata": {},
   "outputs": [],
   "source": [
    "# Create optimizer\n",
    "optimizer = goose.SequenceOptimizer(target_length=100, verbose=True,\n",
    "                                   max_iterations=2000)\n",
    "\n",
    "# Disorder constraints\n",
    "optimizer.add_property(goose.NCPR,  \n",
    "                       calculate_as_linear_profile=True,\n",
    "                       target_profile = amplitude)\n",
    "\n",
    "optimizer.add_property(goose.FractionDisorder,\n",
    "                       target_value=1)\n",
    "\n",
    "# run\n",
    "var=optimizer.run()\n"
   ]
  },
  {
   "cell_type": "code",
   "execution_count": null,
   "id": "71ae5479",
   "metadata": {},
   "outputs": [],
   "source": [
    "fig, ax1 = plt.subplots(1,1,figsize=(5,3),sharex=True, sharey=True)\n",
    "var_profile = [Protein(var[i:i+5]).NCPR for i in range(len(var)-4)]\n",
    "# plot amplitude but trim edgest because the profile is shorter due to windowing\n",
    "ax1.plot(amplitude[2:len(amplitude)-2], label='Target', color='blue')\n",
    "ax1.plot(var_profile, label='Variant', color='orange')\n",
    "ax1.set_ylabel('NCPR')\n",
    "ax1.set_xlabel('Residue index')\n",
    "ax1.legend()\n",
    "plt.suptitle('NCPR profiles variant matched to cosine wave')\n",
    "plt.tight_layout()\n",
    "plt.show()"
   ]
  },
  {
   "cell_type": "code",
   "execution_count": null,
   "id": "168779b5",
   "metadata": {},
   "outputs": [],
   "source": []
  }
 ],
 "metadata": {
  "kernelspec": {
   "display_name": "test_goose_py311",
   "language": "python",
   "name": "python3"
  },
  "language_info": {
   "codemirror_mode": {
    "name": "ipython",
    "version": 3
   },
   "file_extension": ".py",
   "mimetype": "text/x-python",
   "name": "python",
   "nbconvert_exporter": "python",
   "pygments_lexer": "ipython3",
   "version": "3.11.13"
  }
 },
 "nbformat": 4,
 "nbformat_minor": 5
}
