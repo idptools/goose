{
 "cells": [
  {
   "cell_type": "markdown",
   "id": "b227d08a",
   "metadata": {},
   "source": [
    "# Sequence Optimization with GOOSE\n",
    "\n",
    "This notebook demonstrates the functionality of the `SequenceOptimizer` from GOOSE, using various protein properties defined in the optimizer_properties module. We will:\n",
    "- Initialize a SequenceOptimizer\n",
    "- Add multiple properties (e.g., Hydrophobicity, FCR, NCPR)\n",
    "- Set optimization parameters\n",
    "- Run the optimization\n",
    "- Analyze the optimized sequence\n"
   ]
  },
  {
   "cell_type": "code",
   "execution_count": null,
   "id": "1da3ea58",
   "metadata": {},
   "outputs": [],
   "source": [
    "# Import required modules\n",
    "import goose\n",
    "from goose.optimize import SequenceOptimizer\n",
    "from sparrow import Protein\n"
   ]
  },
  {
   "cell_type": "markdown",
   "id": "bbd81812",
   "metadata": {},
   "source": [
    "## Initialize SequenceOptimizer\n",
    "\n",
    "Create an instance of SequenceOptimizer with a target sequence length. You can also specify other initialization parameters as needed."
   ]
  },
  {
   "cell_type": "code",
   "execution_count": null,
   "id": "433709b8",
   "metadata": {},
   "outputs": [],
   "source": [
    "# Set the target sequence length\n",
    "sequence_length = 100\n",
    "\n",
    "# Initialize the optimizer\n",
    "optimizer = SequenceOptimizer(target_length=sequence_length, \n",
    "                              verbose=True,\n",
    "                              max_iterations=5000)\n"
   ]
  },
  {
   "cell_type": "markdown",
   "id": "487d3067",
   "metadata": {},
   "source": [
    "## Add Protein Properties\n",
    "\n",
    "Add one or more properties to optimize. Here, we add Hydrophobicity, FCR, and NCPR as examples. You can add as many properties as you like, each with its own target value and weight."
   ]
  },
  {
   "cell_type": "code",
   "execution_count": null,
   "id": "15f808ad",
   "metadata": {},
   "outputs": [],
   "source": [
    "# Add properties to optimize\n",
    "optimizer.add_property(goose.Hydrophobicity, target_value=2.5, weight=1.0)\n",
    "optimizer.add_property(goose.FCR, target_value=0.35, weight=1.0, constraint_type='minimum')\n",
    "optimizer.add_property(goose.NCPR, target_value=0.0, weight=1.0)\n",
    "optimizer.add_property(goose.ComputeIWD, residues=(\"S\"), target_value=2.0, weight=0.5)\n"
   ]
  },
  {
   "cell_type": "markdown",
   "id": "c2525516",
   "metadata": {},
   "source": [
    "## Run Sequence Optimization\n",
    "\n",
    "Run the optimizer to generate a sequence that best matches the specified property targets."
   ]
  },
  {
   "cell_type": "code",
   "execution_count": null,
   "id": "6b203fb3",
   "metadata": {},
   "outputs": [],
   "source": [
    "# Run the optimization\n",
    "optimized_sequence = optimizer.run()\n"
   ]
  },
  {
   "cell_type": "markdown",
   "id": "c8436c67",
   "metadata": {},
   "source": [
    "## Analyze Optimized Sequence\n",
    "\n",
    "Evaluate the optimized sequence by calculating the values of the properties and comparing them to the targets."
   ]
  },
  {
   "cell_type": "code",
   "execution_count": null,
   "id": "9647440c",
   "metadata": {},
   "outputs": [],
   "source": [
    "# Create a Protein object from the optimized sequence\n",
    "final_protein = Protein(optimized_sequence)\n",
    "\n",
    "# Calculate and print property values\n",
    "hydro = final_protein.hydrophobicity\n",
    "fcr = final_protein.FCR\n",
    "ncpr = final_protein.NCPR\n",
    "\n",
    "\n",
    "print(f\"Final Hydrophobicity: {hydro:.3f} (Target: 2.5)\")\n",
    "print(f\"Final FCR: {fcr:.3f} (Target: minimum 0.35)\")\n",
    "print(f\"Final NCPR: {ncpr:.3f} (Target: 0.0)\")\n"
   ]
  },
  {
   "cell_type": "code",
   "execution_count": null,
   "id": "a5d15f85",
   "metadata": {},
   "outputs": [],
   "source": []
  }
 ],
 "metadata": {
  "kernelspec": {
   "display_name": "test_goose_py311",
   "language": "python",
   "name": "python3"
  },
  "language_info": {
   "codemirror_mode": {
    "name": "ipython",
    "version": 3
   },
   "file_extension": ".py",
   "mimetype": "text/x-python",
   "name": "python",
   "nbconvert_exporter": "python",
   "pygments_lexer": "ipython3",
   "version": "3.11.13"
  }
 },
 "nbformat": 4,
 "nbformat_minor": 5
}
