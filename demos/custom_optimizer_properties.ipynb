{
 "cells": [
  {
   "cell_type": "markdown",
   "id": "6e85120f",
   "metadata": {},
   "source": [
    "# CustomProperty Classes with SequenceOptimizer\n",
    "\n",
    "This notebook demonstrates how to define your own `CustomProperty` class for use with the `SequenceOptimizer` in GOOSE. You will learn how to:\n",
    "- Create a custom property class by subclassing `CustomProperty`\n",
    "- Use it with the optimizer to design sequences with custom constraints\n",
    "- Analyze the results\n"
   ]
  },
  {
   "cell_type": "code",
   "execution_count": null,
   "id": "b6dd568e",
   "metadata": {},
   "outputs": [],
   "source": [
    "import goose\n",
    "from goose.optimize import SequenceOptimizer\n",
    "from goose.backend.optimizer_properties import CustomProperty\n",
    "import sparrow\n",
    "from sparrow import Protein\n"
   ]
  },
  {
   "cell_type": "markdown",
   "id": "ac6e7db1",
   "metadata": {},
   "source": [
    "## Define a Custom ProteinProperty\n",
    "\n",
    "Let's define a property that targets a specific count of Alanine ('A') residues in the sequence. We'll call it `AlanineCount`."
   ]
  },
  {
   "cell_type": "code",
   "execution_count": null,
   "id": "0c3992c7",
   "metadata": {},
   "outputs": [],
   "source": [
    "class AlanineCount(CustomProperty):\n",
    "    def __init__(self, target_value: float, weight: float = 1.0):\n",
    "        super().__init__(target_value, weight)\n",
    "    def calculate_raw_value (self, protein: 'sparrow.Protein') -> float:\n",
    "        return float(protein.sequence.count('A'))\n"
   ]
  },
  {
   "cell_type": "markdown",
   "id": "ee9c141f",
   "metadata": {},
   "source": [
    "## Initialize SequenceOptimizer\n",
    "\n",
    "Create an optimizer instance for a short sequence (e.g., length 30)."
   ]
  },
  {
   "cell_type": "code",
   "execution_count": null,
   "id": "e0ed48b2",
   "metadata": {},
   "outputs": [],
   "source": [
    "optimizer = SequenceOptimizer(target_length=30, verbose=True)\n"
   ]
  },
  {
   "cell_type": "markdown",
   "id": "5b1297a7",
   "metadata": {},
   "source": [
    "## Add the Custom Property\n",
    "\n",
    "Add the `AlanineCount` property to the optimizer, targeting 5 Alanines in the sequence."
   ]
  },
  {
   "cell_type": "code",
   "execution_count": null,
   "id": "e54d00dd",
   "metadata": {},
   "outputs": [],
   "source": [
    "optimizer.add_property(AlanineCount, target_value=5.0, weight=1.0)\n"
   ]
  },
  {
   "cell_type": "markdown",
   "id": "fb08d8f4",
   "metadata": {},
   "source": [
    "## Run the Optimization\n",
    "\n",
    "Run the optimizer and get the best sequence found."
   ]
  },
  {
   "cell_type": "code",
   "execution_count": null,
   "id": "f0c0852a",
   "metadata": {},
   "outputs": [],
   "source": [
    "custom_sequence = optimizer.run()\n",
    "print(f'Final sequence alanine count: {custom_sequence.count(\"A\")}')"
   ]
  },
  {
   "cell_type": "markdown",
   "id": "107e78e9",
   "metadata": {},
   "source": [
    "---\n",
    "\n",
    "**Tips:**\n",
    "- You can define any property you want by subclassing `CustomProperty` and implementing the `calculate_raw_value` method.\n",
    "- You can combine your custom property with built-in properties for multi-objective optimization.\n",
    "- The `calculate_raw_method` method receives a `sparrow.Protein` object, so you can use any of its methods or attributes.\n",
    "\n",
    "Try defining other custom properties, such as targeting a specific motif, amino acid fraction, or any sequence-derived metric!"
   ]
  },
  {
   "cell_type": "markdown",
   "id": "cf8a3b1c",
   "metadata": {},
   "source": []
  }
 ],
 "metadata": {
  "kernelspec": {
   "display_name": "test_goose_py311",
   "language": "python",
   "name": "python3"
  },
  "language_info": {
   "codemirror_mode": {
    "name": "ipython",
    "version": 3
   },
   "file_extension": ".py",
   "mimetype": "text/x-python",
   "name": "python",
   "nbconvert_exporter": "python",
   "pygments_lexer": "ipython3",
   "version": "3.11.13"
  }
 },
 "nbformat": 4,
 "nbformat_minor": 5
}
