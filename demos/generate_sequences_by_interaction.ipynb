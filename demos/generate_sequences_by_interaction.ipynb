{
 "cells": [
  {
   "cell_type": "markdown",
   "id": "2937be9b",
   "metadata": {},
   "source": [
    "# Sequence Optimization Demo: Disordered, Self-Interacting, and Non-Interacting Sequence\n",
    "\n",
    "This notebook demonstrates how to use the `SequenceOptimizer` class to generate a protein sequence that:\n",
    "- Is predicted to be fully disordered (using `FractionDisorder`)\n",
    "- Interacts strongly with itself (using `SelfEpsilon`)\n",
    "- Does **not** interact with a specified target sequence (using `EpsilonByValue`)\n",
    "\n",
    "We will use the `goose` package and its optimization backend for this demonstration."
   ]
  },
  {
   "cell_type": "code",
   "execution_count": 1,
   "id": "d7b03bc9",
   "metadata": {},
   "outputs": [],
   "source": [
    "# Import required libraries\n",
    "import goose\n",
    "from goose.optimize import SequenceOptimizer\n",
    "from goose.backend.optimizer_properties import FractionDisorder, SelfEpsilon, EpsilonByValue\n",
    "from sparrow.protein import Protein\n",
    "import numpy as np\n",
    "import metapredict as meta\n",
    "\n",
    "# For reproducibility\n",
    "import random\n",
    "random.seed(42)\n",
    "np.random.seed(42)"
   ]
  },
  {
   "cell_type": "markdown",
   "id": "ddaf0287",
   "metadata": {},
   "source": [
    "## Setup: Define Parameters and Target Sequence\n",
    "\n",
    "We will define the target sequence length, the sequence we want to avoid interacting with, and the property targets for the optimizer."
   ]
  },
  {
   "cell_type": "code",
   "execution_count": 2,
   "id": "b0c6192c",
   "metadata": {},
   "outputs": [],
   "source": [
    "# Define parameters\n",
    "sequence_length = 50  # Target length for the designed sequence\n",
    "\n",
    "target_sequence = \"MASNDYTQQATQSYGAYPTQPGQGYSQQSSQPYGQQSYSGYSQSTDTSGYGQSSYSSYGQSQNTGYGT\"  # Example target sequence to avoid interacting with\n",
    "\n",
    "# Set property targets\n",
    "fraction_disorder_target = 1.0  # Fully disordered\n",
    "self_epsilon_target = -10.0     # Strong self-attraction (negative value)\n",
    "epsilon_by_value_target = 0.0   # No interaction with the target sequence\n",
    "\n",
    "# You may adjust these values as needed for your use case."
   ]
  },
  {
   "cell_type": "markdown",
   "id": "9fe5d595",
   "metadata": {},
   "source": [
    "## Initialize the SequenceOptimizer and Add Properties\n",
    "\n",
    "We will create a `SequenceOptimizer` instance and add the three properties to optimize:"
   ]
  },
  {
   "cell_type": "code",
   "execution_count": 3,
   "id": "8bd8f16b",
   "metadata": {},
   "outputs": [
    {
     "name": "stderr",
     "output_type": "stream",
     "text": [
      "2025-05-12 11:19:38,481 - INFO - Using amino_acids.py for kmer properties\n",
      "2025-05-12 11:19:38,482 - INFO - Added new property FractionDisorder\n",
      "2025-05-12 11:19:38,483 - INFO - Added new property SelfEpsilon\n",
      "2025-05-12 11:19:38,484 - INFO - Added new property EpsilonByValue\n",
      "2025-05-12 11:19:38,482 - INFO - Added new property FractionDisorder\n",
      "2025-05-12 11:19:38,483 - INFO - Added new property SelfEpsilon\n",
      "2025-05-12 11:19:38,484 - INFO - Added new property EpsilonByValue\n"
     ]
    }
   ],
   "source": [
    "# Initialize the optimizer\n",
    "optimizer = SequenceOptimizer(target_length=sequence_length, gap_to_report=100, num_shuffles=1)\n",
    "\n",
    "# Add FractionDisorder property (maximize disorder)\n",
    "optimizer.add_property(FractionDisorder, target_value=fraction_disorder_target, weight=1.0)\n",
    "\n",
    "# Add SelfEpsilon property (maximize self-attraction)\n",
    "optimizer.add_property(SelfEpsilon, target_value=self_epsilon_target, weight=1.0, model='mpipi')\n",
    "\n",
    "# Add EpsilonByValue property (minimize interaction with target_sequence)\n",
    "optimizer.add_property(EpsilonByValue, target_value=epsilon_by_value_target, target_sequence=target_sequence, weight=1.0, model='mpipi')\n",
    "\n",
    "# Set optimization parameters\n",
    "optimizer.set_optimization_params(max_iterations=2000, tolerance=0.01, shuffle_interval=5)"
   ]
  },
  {
   "cell_type": "markdown",
   "id": "4ffa6776",
   "metadata": {},
   "source": [
    "## Run the Optimization\n",
    "\n",
    "We will now run the optimizer to generate a sequence that meets the specified criteria."
   ]
  },
  {
   "cell_type": "code",
   "execution_count": 4,
   "id": "f74274bc",
   "metadata": {},
   "outputs": [
    {
     "name": "stderr",
     "output_type": "stream",
     "text": [
      "2025-05-12 11:19:53,048 - INFO - Starting sequence optimization\n",
      "  0%|          | 0/2000 [00:00<?, ?it/s]"
     ]
    },
    {
     "name": "stdout",
     "output_type": "stream",
     "text": [
      "Iteration 0: Best Error = 12.425006993258844\n",
      "Iteration 0: Best Sequence = ISTHCVWTNLASFFVWFNACAHEVHTNCRHVVICAQHSMGRKKPLSEMTG\n",
      "Iteration 0: Target FractionDisorder = 1.000\n",
      "Iteration 0: Current FractionDisorder = 1.000\n",
      "Iteration 0: Target SelfEpsilon = -10.000\n",
      "Iteration 0: Current SelfEpsilon = -0.257\n",
      "Iteration 0: Target EpsilonByValue = 0.000\n",
      "Iteration 0: Current EpsilonByValue = -2.682\n"
     ]
    },
    {
     "name": "stderr",
     "output_type": "stream",
     "text": [
      "Best Error = 6.70:   5%|▌         | 100/2000 [00:00<00:13, 145.93it/s]"
     ]
    },
    {
     "name": "stdout",
     "output_type": "stream",
     "text": [
      "Iteration 100: Best Error = 6.6995574247407115\n",
      "Iteration 100: Best Sequence = KMYFNDFGYMYLYQSGWAWTGRWYMYFDGFFIIVSHYHPCEFYMYALVQN\n",
      "Iteration 100: Target FractionDisorder = 1.000\n",
      "Iteration 100: Current FractionDisorder = 0.580\n",
      "Iteration 100: Target SelfEpsilon = -10.000\n",
      "Iteration 100: Current SelfEpsilon = -8.720\n",
      "Iteration 100: Target EpsilonByValue = 0.000\n",
      "Iteration 100: Current EpsilonByValue = -6.117\n"
     ]
    },
    {
     "name": "stderr",
     "output_type": "stream",
     "text": [
      "Best Error = 6.30:  10%|█         | 200/2000 [00:01<00:12, 146.97it/s]"
     ]
    },
    {
     "name": "stdout",
     "output_type": "stream",
     "text": [
      "Iteration 200: Best Error = 6.295142213027799\n",
      "Iteration 200: Best Sequence = KMYFNDFIYMYLYQSIWAWTGRWYMYFDCFFIIVSHYHPCEFYMYALVQM\n",
      "Iteration 200: Target FractionDisorder = 1.000\n",
      "Iteration 200: Current FractionDisorder = 0.660\n",
      "Iteration 200: Target SelfEpsilon = -10.000\n",
      "Iteration 200: Current SelfEpsilon = -7.994\n",
      "Iteration 200: Target EpsilonByValue = 0.000\n",
      "Iteration 200: Current EpsilonByValue = -5.020\n"
     ]
    },
    {
     "name": "stderr",
     "output_type": "stream",
     "text": [
      "Best Error = 6.21:  15%|█▌        | 300/2000 [00:02<00:11, 144.16it/s]"
     ]
    },
    {
     "name": "stdout",
     "output_type": "stream",
     "text": [
      "Iteration 300: Best Error = 6.214579117899744\n",
      "Iteration 300: Best Sequence = KLYFNDFIYMYLYQSIWAWTGRWYLYFDTFFIIVSHYHPCEFYMYALVQM\n",
      "Iteration 300: Target FractionDisorder = 1.000\n",
      "Iteration 300: Current FractionDisorder = 1.000\n",
      "Iteration 300: Target SelfEpsilon = -10.000\n",
      "Iteration 300: Current SelfEpsilon = -11.739\n",
      "Iteration 300: Target EpsilonByValue = 0.000\n",
      "Iteration 300: Current EpsilonByValue = -7.327\n"
     ]
    },
    {
     "name": "stderr",
     "output_type": "stream",
     "text": [
      "Best Error = 6.20:  20%|██        | 400/2000 [00:02<00:10, 145.94it/s]"
     ]
    },
    {
     "name": "stdout",
     "output_type": "stream",
     "text": [
      "Iteration 400: Best Error = 6.201095650693099\n",
      "Iteration 400: Best Sequence = KLYFNDFIYMYLYQSIWAWTGRWYLYFDTFFIIVSHYHPCEFYIYALVQM\n",
      "Iteration 400: Target FractionDisorder = 1.000\n",
      "Iteration 400: Current FractionDisorder = 0.780\n",
      "Iteration 400: Target SelfEpsilon = -10.000\n",
      "Iteration 400: Current SelfEpsilon = -8.701\n",
      "Iteration 400: Target EpsilonByValue = 0.000\n",
      "Iteration 400: Current EpsilonByValue = -5.375\n"
     ]
    },
    {
     "name": "stderr",
     "output_type": "stream",
     "text": [
      "Best Error = 5.85:  25%|██▌       | 500/2000 [00:03<00:10, 147.00it/s]"
     ]
    },
    {
     "name": "stdout",
     "output_type": "stream",
     "text": [
      "Iteration 500: Best Error = 5.852295966675451\n",
      "Iteration 500: Best Sequence = KLYFNDFIYMYLYQSIWIITGQWYIYFDVFFIIVSHYHPIEFYIYAIVQM\n",
      "Iteration 500: Target FractionDisorder = 1.000\n",
      "Iteration 500: Current FractionDisorder = 0.980\n",
      "Iteration 500: Target SelfEpsilon = -10.000\n",
      "Iteration 500: Current SelfEpsilon = -8.675\n",
      "Iteration 500: Target EpsilonByValue = 0.000\n",
      "Iteration 500: Current EpsilonByValue = -5.164\n"
     ]
    },
    {
     "name": "stderr",
     "output_type": "stream",
     "text": [
      "Best Error = 4.68:  30%|███       | 600/2000 [00:04<00:09, 147.32it/s]"
     ]
    },
    {
     "name": "stdout",
     "output_type": "stream",
     "text": [
      "Iteration 600: Best Error = 4.677178142444644\n",
      "Iteration 600: Best Sequence = ILYLNEFIYMYLYQSIWIITQQWYIYLDVFFIIVDYYLIIEFYIYAIVHM\n",
      "Iteration 600: Target FractionDisorder = 1.000\n",
      "Iteration 600: Current FractionDisorder = 0.780\n",
      "Iteration 600: Target SelfEpsilon = -10.000\n",
      "Iteration 600: Current SelfEpsilon = -8.763\n",
      "Iteration 600: Target EpsilonByValue = 0.000\n",
      "Iteration 600: Current EpsilonByValue = -4.085\n"
     ]
    },
    {
     "name": "stderr",
     "output_type": "stream",
     "text": [
      "Best Error = 2.93:  35%|███▌      | 700/2000 [00:04<00:08, 146.09it/s]"
     ]
    },
    {
     "name": "stdout",
     "output_type": "stream",
     "text": [
      "Iteration 700: Best Error = 2.9253123645169454\n",
      "Iteration 700: Best Sequence = IIYVFEHIYMYLYHSIWIITQCWVIVIDVHLIIVDYYVIIEVYIVAIVHL\n",
      "Iteration 700: Target FractionDisorder = 1.000\n",
      "Iteration 700: Current FractionDisorder = 0.000\n",
      "Iteration 700: Target SelfEpsilon = -10.000\n",
      "Iteration 700: Current SelfEpsilon = -4.449\n",
      "Iteration 700: Target EpsilonByValue = 0.000\n",
      "Iteration 700: Current EpsilonByValue = -2.189\n"
     ]
    },
    {
     "name": "stderr",
     "output_type": "stream",
     "text": [
      "Best Error = 2.73:  40%|████      | 800/2000 [00:05<00:08, 145.40it/s]"
     ]
    },
    {
     "name": "stdout",
     "output_type": "stream",
     "text": [
      "Iteration 800: Best Error = 2.7313772020963616\n",
      "Iteration 800: Best Sequence = IIYVFDHIFMYLYHSIWIITQCWVIVIDVHLIIVHFYVIIEVYIVAIVHL\n",
      "Iteration 800: Target FractionDisorder = 1.000\n",
      "Iteration 800: Current FractionDisorder = 1.000\n",
      "Iteration 800: Target SelfEpsilon = -10.000\n",
      "Iteration 800: Current SelfEpsilon = -9.711\n",
      "Iteration 800: Target EpsilonByValue = 0.000\n",
      "Iteration 800: Current EpsilonByValue = -3.026\n"
     ]
    },
    {
     "name": "stderr",
     "output_type": "stream",
     "text": [
      "Best Error = 2.58:  45%|████▌     | 900/2000 [00:06<00:07, 145.21it/s]"
     ]
    },
    {
     "name": "stdout",
     "output_type": "stream",
     "text": [
      "Iteration 900: Best Error = 2.5834390891639227\n",
      "Iteration 900: Best Sequence = IIYVFDHIMIYLYHSIWIITQCWVIVIDVHLIIVHFYVIIDVYIVAIVHL\n",
      "Iteration 900: Target FractionDisorder = 1.000\n",
      "Iteration 900: Current FractionDisorder = 0.080\n",
      "Iteration 900: Target SelfEpsilon = -10.000\n",
      "Iteration 900: Current SelfEpsilon = -7.038\n",
      "Iteration 900: Target EpsilonByValue = 0.000\n",
      "Iteration 900: Current EpsilonByValue = -2.761\n"
     ]
    },
    {
     "name": "stderr",
     "output_type": "stream",
     "text": [
      "Best Error = 2.00:  50%|█████     | 1000/2000 [00:06<00:06, 144.74it/s]"
     ]
    },
    {
     "name": "stdout",
     "output_type": "stream",
     "text": [
      "Iteration 1000: Best Error = 2.001503852871558\n",
      "Iteration 1000: Best Sequence = IIYVFDHIIIYSYHSIVIIPQCWVIVIDVHLIIVHAYVIIDVYIVIIVHL\n",
      "Iteration 1000: Target FractionDisorder = 1.000\n",
      "Iteration 1000: Current FractionDisorder = 1.000\n",
      "Iteration 1000: Target SelfEpsilon = -10.000\n",
      "Iteration 1000: Current SelfEpsilon = -9.373\n",
      "Iteration 1000: Target EpsilonByValue = 0.000\n",
      "Iteration 1000: Current EpsilonByValue = -1.375\n"
     ]
    },
    {
     "name": "stderr",
     "output_type": "stream",
     "text": [
      "Best Error = 1.68:  55%|█████▌    | 1100/2000 [00:07<00:06, 141.81it/s]"
     ]
    },
    {
     "name": "stdout",
     "output_type": "stream",
     "text": [
      "Iteration 1100: Best Error = 1.6796059931550111\n",
      "Iteration 1100: Best Sequence = IIYVYDHIIIVIYHSIVIIPQCWVIVIDVHLIIVHMVVIIDVYIVIIVHL\n",
      "Iteration 1100: Target FractionDisorder = 1.000\n",
      "Iteration 1100: Current FractionDisorder = 0.000\n",
      "Iteration 1100: Target SelfEpsilon = -10.000\n",
      "Iteration 1100: Current SelfEpsilon = -4.558\n",
      "Iteration 1100: Target EpsilonByValue = 0.000\n",
      "Iteration 1100: Current EpsilonByValue = -0.300\n"
     ]
    },
    {
     "name": "stderr",
     "output_type": "stream",
     "text": [
      "Best Error = 0.75:  60%|██████    | 1200/2000 [00:08<00:05, 141.69it/s]"
     ]
    },
    {
     "name": "stdout",
     "output_type": "stream",
     "text": [
      "Iteration 1200: Best Error = 0.7463228097654019\n",
      "Iteration 1200: Best Sequence = IIYVYDHIIIVIYHQIVIISNIWVIVIDVHLIIVHLVVIIDVYIVIIVHL\n",
      "Iteration 1200: Target FractionDisorder = 1.000\n",
      "Iteration 1200: Current FractionDisorder = 0.000\n",
      "Iteration 1200: Target SelfEpsilon = -10.000\n",
      "Iteration 1200: Current SelfEpsilon = -10.700\n",
      "Iteration 1200: Target EpsilonByValue = 0.000\n",
      "Iteration 1200: Current EpsilonByValue = -0.872\n"
     ]
    },
    {
     "name": "stderr",
     "output_type": "stream",
     "text": [
      "Best Error = 0.68:  65%|██████▌   | 1300/2000 [00:09<00:04, 141.64it/s]"
     ]
    },
    {
     "name": "stdout",
     "output_type": "stream",
     "text": [
      "Iteration 1300: Best Error = 0.6808235047608625\n",
      "Iteration 1300: Best Sequence = IIYVYDHIIIVIYHQIVIISNIWVIVIEVHLIIVHLVVIIDVYIVIIVHL\n",
      "Iteration 1300: Target FractionDisorder = 1.000\n",
      "Iteration 1300: Current FractionDisorder = 0.940\n",
      "Iteration 1300: Target SelfEpsilon = -10.000\n",
      "Iteration 1300: Current SelfEpsilon = -12.009\n",
      "Iteration 1300: Target EpsilonByValue = 0.000\n",
      "Iteration 1300: Current EpsilonByValue = -3.415\n"
     ]
    },
    {
     "name": "stderr",
     "output_type": "stream",
     "text": [
      "Best Error = 0.39:  70%|███████   | 1400/2000 [00:09<00:04, 141.60it/s]"
     ]
    },
    {
     "name": "stdout",
     "output_type": "stream",
     "text": [
      "Iteration 1400: Best Error = 0.38808204631453413\n",
      "Iteration 1400: Best Sequence = IIYIYEHIIIIIYHQIIIISNIWVIVIEVHLIIINLVIIIDIYIIIIVNL\n",
      "Iteration 1400: Target FractionDisorder = 1.000\n",
      "Iteration 1400: Current FractionDisorder = 0.920\n",
      "Iteration 1400: Target SelfEpsilon = -10.000\n",
      "Iteration 1400: Current SelfEpsilon = -9.749\n",
      "Iteration 1400: Target EpsilonByValue = 0.000\n",
      "Iteration 1400: Current EpsilonByValue = -0.057\n"
     ]
    },
    {
     "name": "stderr",
     "output_type": "stream",
     "text": [
      "Best Error = 0.39:  75%|███████▌  | 1500/2000 [00:10<00:03, 141.48it/s]"
     ]
    },
    {
     "name": "stdout",
     "output_type": "stream",
     "text": [
      "Iteration 1500: Best Error = 0.3868221891836918\n",
      "Iteration 1500: Best Sequence = IIYIYEHIIIIIYHQIIIISNIWVIVIEVHLIIIHLVIIIDIYIIIIVNL\n",
      "Iteration 1500: Target FractionDisorder = 1.000\n",
      "Iteration 1500: Current FractionDisorder = 0.000\n",
      "Iteration 1500: Target SelfEpsilon = -10.000\n",
      "Iteration 1500: Current SelfEpsilon = -5.808\n",
      "Iteration 1500: Target EpsilonByValue = 0.000\n",
      "Iteration 1500: Current EpsilonByValue = -1.090\n"
     ]
    },
    {
     "name": "stderr",
     "output_type": "stream",
     "text": [
      "Best Error = 0.29:  80%|████████  | 1600/2000 [00:11<00:02, 141.29it/s]"
     ]
    },
    {
     "name": "stdout",
     "output_type": "stream",
     "text": [
      "Iteration 1600: Best Error = 0.2913241357625975\n",
      "Iteration 1600: Best Sequence = IIYIYEHIIIIIYHQIIIITNIWVIVIEVHLIIIHLVIIIDIYIIIIVNL\n",
      "Iteration 1600: Target FractionDisorder = 1.000\n",
      "Iteration 1600: Current FractionDisorder = 0.000\n",
      "Iteration 1600: Target SelfEpsilon = -10.000\n",
      "Iteration 1600: Current SelfEpsilon = -10.006\n",
      "Iteration 1600: Target EpsilonByValue = 0.000\n",
      "Iteration 1600: Current EpsilonByValue = -0.284\n"
     ]
    },
    {
     "name": "stderr",
     "output_type": "stream",
     "text": [
      "Best Error = 0.29:  85%|████████▌ | 1700/2000 [00:11<00:02, 141.30it/s]"
     ]
    },
    {
     "name": "stdout",
     "output_type": "stream",
     "text": [
      "Iteration 1700: Best Error = 0.2913241357625975\n",
      "Iteration 1700: Best Sequence = IIYIYEHIIIIIYHQIIIITNIWVIVIEVHLIIIHLVIIIDIYIIIIVNL\n",
      "Iteration 1700: Target FractionDisorder = 1.000\n",
      "Iteration 1700: Current FractionDisorder = 0.000\n",
      "Iteration 1700: Target SelfEpsilon = -10.000\n",
      "Iteration 1700: Current SelfEpsilon = -2.847\n",
      "Iteration 1700: Target EpsilonByValue = 0.000\n",
      "Iteration 1700: Current EpsilonByValue = -0.615\n"
     ]
    },
    {
     "name": "stderr",
     "output_type": "stream",
     "text": [
      "Best Error = 0.29:  90%|█████████ | 1800/2000 [00:12<00:01, 141.26it/s]"
     ]
    },
    {
     "name": "stdout",
     "output_type": "stream",
     "text": [
      "Iteration 1800: Best Error = 0.2913241357625975\n",
      "Iteration 1800: Best Sequence = IIYIYEHIIIIIYHQIIIITNIWVIVIEVHLIIIHLVIIIDIYIIIIVNL\n",
      "Iteration 1800: Target FractionDisorder = 1.000\n",
      "Iteration 1800: Current FractionDisorder = 1.000\n",
      "Iteration 1800: Target SelfEpsilon = -10.000\n",
      "Iteration 1800: Current SelfEpsilon = -8.407\n",
      "Iteration 1800: Target EpsilonByValue = 0.000\n",
      "Iteration 1800: Current EpsilonByValue = -3.009\n"
     ]
    },
    {
     "name": "stderr",
     "output_type": "stream",
     "text": [
      "Best Error = 0.29:  95%|█████████▌| 1900/2000 [00:13<00:00, 138.92it/s]"
     ]
    },
    {
     "name": "stdout",
     "output_type": "stream",
     "text": [
      "Iteration 1900: Best Error = 0.2871369004528468\n",
      "Iteration 1900: Best Sequence = IIYIYEHIIIIIYHQIIIITNIWVIVIEVHLIIIHVVIIIDIYIIIIVNL\n",
      "Iteration 1900: Target FractionDisorder = 1.000\n",
      "Iteration 1900: Current FractionDisorder = 0.000\n",
      "Iteration 1900: Target SelfEpsilon = -10.000\n",
      "Iteration 1900: Current SelfEpsilon = -6.962\n",
      "Iteration 1900: Target EpsilonByValue = 0.000\n",
      "Iteration 1900: Current EpsilonByValue = -1.464\n"
     ]
    },
    {
     "name": "stderr",
     "output_type": "stream",
     "text": [
      "Best Error = 0.27: 100%|██████████| 2000/2000 [00:14<00:00, 142.80it/s]\n",
      "2025-05-12 11:20:07,389 - INFO - Sequence optimization completed\n",
      "2025-05-12 11:20:07,390 - INFO - Optimized Sequence: IIYIYEHIIIIIYHQIIIITNIWVIVIDVHLIIIHVVIIIDIYIIIIVNL\n",
      "2025-05-12 11:20:07,395 - INFO - FractionDisorder: 0.94 (Target: 1.00)\n",
      "Best Error = 0.27: 100%|██████████| 2000/2000 [00:14<00:00, 142.80it/s]\n",
      "2025-05-12 11:20:07,389 - INFO - Sequence optimization completed\n",
      "2025-05-12 11:20:07,390 - INFO - Optimized Sequence: IIYIYEHIIIIIYHQIIIITNIWVIVIDVHLIIIHVVIIIDIYIIIIVNL\n",
      "2025-05-12 11:20:07,395 - INFO - FractionDisorder: 0.94 (Target: 1.00)\n",
      "2025-05-12 11:20:07,397 - INFO - SelfEpsilon: -10.00 (Target: -10.00)\n",
      "2025-05-12 11:20:07,399 - INFO - EpsilonByValue: -0.20 (Target: 0.00)\n",
      "2025-05-12 11:20:07,397 - INFO - SelfEpsilon: -10.00 (Target: -10.00)\n",
      "2025-05-12 11:20:07,399 - INFO - EpsilonByValue: -0.20 (Target: 0.00)\n"
     ]
    },
    {
     "name": "stdout",
     "output_type": "stream",
     "text": [
      "Optimized Sequence:\n",
      "IIYIYEHIIIIIYHQIIIITNIWVIVIDVHLIIIHVVIIIDIYIIIIVNL\n"
     ]
    }
   ],
   "source": [
    "# Run the optimizer\n",
    "designed_sequence = optimizer.run()\n",
    "print(\"Optimized Sequence:\")\n",
    "print(designed_sequence)"
   ]
  },
  {
   "cell_type": "markdown",
   "id": "97db8998",
   "metadata": {},
   "source": [
    "## Evaluate the Designed Sequence\n",
    "\n",
    "Let's check the properties of the designed sequence to confirm it meets our goals:"
   ]
  },
  {
   "cell_type": "code",
   "execution_count": null,
   "id": "abde057a",
   "metadata": {},
   "outputs": [],
   "source": [
    "# Compute disorder fraction using metapredict\n",
    "predicted_disorder = meta.predict_disorder(designed_sequence)\n",
    "fraction_disorder = (predicted_disorder > 0.5).sum() / len(predicted_disorder)\n",
    "\n",
    "# Compute self-epsilon and epsilon with target using finches (mpipi)\n",
    "from finches.frontend.mpipi_frontend import Mpipi_frontend\n",
    "model = Mpipi_frontend()\n",
    "\n",
    "self_interaction = model.epsilon(designed_sequence, designed_sequence)\n",
    "target_interaction = model.epsilon(designed_sequence, target_sequence)\n",
    "\n",
    "print(f\"Fraction Disorder: {fraction_disorder:.2f}\")\n",
    "print(f\"Self Epsilon (should be strongly negative): {self_interaction:.2f}\")\n",
    "print(f\"Epsilon with Target Sequence (should be near zero): {target_interaction:.2f}\")"
   ]
  }
 ],
 "metadata": {
  "kernelspec": {
   "display_name": "test_goose",
   "language": "python",
   "name": "python3"
  },
  "language_info": {
   "codemirror_mode": {
    "name": "ipython",
    "version": 3
   },
   "file_extension": ".py",
   "mimetype": "text/x-python",
   "name": "python",
   "nbconvert_exporter": "python",
   "pygments_lexer": "ipython3",
   "version": "3.8.13"
  }
 },
 "nbformat": 4,
 "nbformat_minor": 5
}
