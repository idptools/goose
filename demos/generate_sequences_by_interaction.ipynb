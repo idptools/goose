{
 "cells": [
  {
   "cell_type": "markdown",
   "id": "2937be9b",
   "metadata": {},
   "source": [
    "# Sequence Optimization Demo: Disordered, Self-Interacting, and Non-Interacting Sequence\n",
    "\n",
    "This notebook demonstrates how to use the `SequenceOptimizer` class to generate a protein sequence that:\n",
    "- Is predicted to be fully disordered (using `FractionDisorder`)\n",
    "- Interacts strongly with itself (using `MeanSelfEpsilon`)\n",
    "- Does **not** interact with a specified target sequence (using `MeanEpsilonWithTarget`)\n",
    "\n",
    "We will use the `goose` package and its optimization backend for this demonstration."
   ]
  },
  {
   "cell_type": "code",
   "execution_count": null,
   "id": "d7b03bc9",
   "metadata": {},
   "outputs": [],
   "source": [
    "# Import required libraries\n",
    "import goose\n",
    "from goose.optimize import SequenceOptimizer\n",
    "from sparrow.protein import Protein\n",
    "import numpy as np\n",
    "import metapredict as meta\n",
    "\n",
    "# For reproducibility\n",
    "import random\n",
    "random.seed(42)\n",
    "np.random.seed(42)"
   ]
  },
  {
   "cell_type": "markdown",
   "id": "ddaf0287",
   "metadata": {},
   "source": [
    "## Setup: Define Parameters and Target Sequence\n",
    "\n",
    "We will define the target sequence length, the sequence we want to avoid interacting with, and the property targets for the optimizer."
   ]
  },
  {
   "cell_type": "code",
   "execution_count": null,
   "id": "b0c6192c",
   "metadata": {},
   "outputs": [],
   "source": [
    "# Define parameters\n",
    "sequence_length = 50  # Target length for the designed sequence\n",
    "\n",
    "target_sequence = \"MASNDYTQQATQSYGAYPTQPGQGYSQQSSQPYGQQSYSGYSQSTDTSGYGQSSYSSYGQSQNTGYGT\"  # Example target sequence to avoid interacting with\n",
    "\n",
    "# Set property targets\n",
    "fraction_disorder_target = 1.0  # Fully disordered\n",
    "self_epsilon_target = -10.0     # Strong self-attraction (negative value)\n",
    "epsilon_by_value_target = 0.0   # No interaction with the target sequence\n",
    "\n",
    "# You may adjust these values as needed for your use case."
   ]
  },
  {
   "cell_type": "markdown",
   "id": "9fe5d595",
   "metadata": {},
   "source": [
    "## Initialize the SequenceOptimizer and Add Properties\n",
    "\n",
    "We will create a `SequenceOptimizer` instance and add the three properties to optimize:"
   ]
  },
  {
   "cell_type": "code",
   "execution_count": null,
   "id": "8bd8f16b",
   "metadata": {},
   "outputs": [],
   "source": [
    "# Initialize the optimizer\n",
    "optimizer = SequenceOptimizer(target_length=sequence_length, max_iterations=2000)\n",
    "\n",
    "# Add FractionDisorder property (maximize disorder)\n",
    "optimizer.add_property(goose.FractionDisorder, target_value=fraction_disorder_target, weight=1.0)\n",
    "\n",
    "# Add SelfEpsilon property (maximize self-attraction)\n",
    "optimizer.add_property(goose.MeanSelfEpsilon, target_value=self_epsilon_target, weight=1.0, model='mpipi')\n",
    "\n",
    "# Add EpsilonByValue property (minimize interaction with target_sequence)\n",
    "optimizer.add_property(goose.MeanEpsilonWithTarget, target_value=epsilon_by_value_target, target_sequence=target_sequence, weight=1.0, model='mpipi')"
   ]
  },
  {
   "cell_type": "markdown",
   "id": "4ffa6776",
   "metadata": {},
   "source": [
    "## Run the Optimization\n",
    "\n",
    "We will now run the optimizer to generate a sequence that meets the specified criteria."
   ]
  },
  {
   "cell_type": "code",
   "execution_count": null,
   "id": "f74274bc",
   "metadata": {},
   "outputs": [],
   "source": [
    "# Run the optimizer\n",
    "designed_sequence = optimizer.run()"
   ]
  },
  {
   "cell_type": "markdown",
   "id": "97db8998",
   "metadata": {},
   "source": [
    "## Evaluate the Designed Sequence\n",
    "\n",
    "Let's check the properties of the designed sequence to confirm it meets our goals:"
   ]
  },
  {
   "cell_type": "code",
   "execution_count": null,
   "id": "abde057a",
   "metadata": {},
   "outputs": [],
   "source": [
    "# Compute disorder fraction using metapredict\n",
    "predicted_disorder = meta.predict_disorder(designed_sequence)\n",
    "fraction_disorder = (predicted_disorder > 0.5).sum() / len(predicted_disorder)\n",
    "\n",
    "# Compute self-epsilon and epsilon with target using finches (mpipi)\n",
    "from finches.frontend.mpipi_frontend import Mpipi_frontend\n",
    "model = Mpipi_frontend()\n",
    "\n",
    "self_interaction = model.epsilon(designed_sequence, designed_sequence)\n",
    "target_interaction = model.epsilon(designed_sequence, target_sequence)\n",
    "\n",
    "print(f\"Fraction Disorder: {fraction_disorder:.2f}\")\n",
    "print(f\"Self Epsilon (should be strongly negative): {self_interaction:.2f}\")\n",
    "print(f\"Epsilon with Target Sequence (should be near zero): {target_interaction:.2f}\")"
   ]
  },
  {
   "cell_type": "code",
   "execution_count": null,
   "id": "69dba1a1",
   "metadata": {},
   "outputs": [],
   "source": []
  }
 ],
 "metadata": {
  "kernelspec": {
   "display_name": "test_goose_py311",
   "language": "python",
   "name": "python3"
  },
  "language_info": {
   "codemirror_mode": {
    "name": "ipython",
    "version": 3
   },
   "file_extension": ".py",
   "mimetype": "text/x-python",
   "name": "python",
   "nbconvert_exporter": "python",
   "pygments_lexer": "ipython3",
   "version": "3.11.13"
  }
 },
 "nbformat": 4,
 "nbformat_minor": 5
}
