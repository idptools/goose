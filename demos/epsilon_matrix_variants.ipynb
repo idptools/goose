{
 "cells": [
  {
   "cell_type": "markdown",
   "id": "f37077ee",
   "metadata": {},
   "source": [
    "# Epsilon Matrix properties with SequenceOptimizer\n",
    "\n",
    "This notebook demonstrates using the epsilon properties that optimize towards a matrix instead of a mean value. In this demo you will:\n",
    "- Create sequences where we optimize towards the self interaction matrix of a sequence of interest.\n",
    "- Create sequences where we optimize towards a self interaction matrix where we alter the repulsive / attractive values.\n",
    "- Create sequences where we optimize towards the interaction matrix of a sequence of interest and its target sequence.\n",
    "- Create sequences where we optimize towards an arbitrary matrix.\n",
    "- Visualize results"
   ]
  },
  {
   "cell_type": "code",
   "execution_count": null,
   "id": "b1111841",
   "metadata": {},
   "outputs": [],
   "source": [
    "import goose\n",
    "from goose.optimize import SequenceOptimizer\n",
    "import sparrow\n",
    "from sparrow import Protein\n",
    "import finches\n",
    "\n",
    "import numpy as np\n",
    "import matplotlib.pyplot as plt\n",
    "import random\n",
    "\n",
    "#initialize finches forcefields\n",
    "mf = finches.frontend.mpipi_frontend.Mpipi_frontend()\n",
    "cf = finches.frontend.calvados_frontend.CALVADOS_frontend()"
   ]
  },
  {
   "cell_type": "code",
   "execution_count": null,
   "id": "458500a2",
   "metadata": {},
   "outputs": [],
   "source": [
    "# H. sapiens p53 (P04637) N-terminal IDR\n",
    "p53='MEEPQSDPSVEPPLSQETFSDLWKLLPENNVLSPLPSQAMDDLMLSPDDIEQWFTEDPGPDEAPRMPEAAPPVAPAPAAPTPAAPAPAPSWPLSSSVPSQKTYQGSYGFRLGFLHSGTAKSVTCTYSPALNKMFCQLAKTCPVQLWVDSTPPPGTRVRAMAIYKQSQHMTEVVRRCPHHERCSDSDGLAPPQHLIRVEGNLRVEYLDDRNTFRHSVVVPYEPPEVGSDCTTIHYNYMCNSSCMGGMNRRPILTIITLEDSSGNLLGRNSFEVRVCACPGRDRRTEEENLRKKGEPHHELPPGSTKRALPNNTSSSPQPKKKPLDGEYFTLQIRGRERFEMFRELNEALELKDAQAGKEPGGSRAHSSHLKSKKGQSTSRHKKLMFKTEGPDSD'\n",
    "p53_idr = p53[1:103]  # N-terminal IDR"
   ]
  },
  {
   "cell_type": "markdown",
   "id": "f2d18d2e",
   "metadata": {},
   "source": [
    "# Example 1: Creating a sequence that matches the self-interaction matrix of the N-teriminal IDR of p53"
   ]
  },
  {
   "cell_type": "code",
   "execution_count": null,
   "id": "08eb32c4",
   "metadata": {},
   "outputs": [],
   "source": [
    "# Create optimizer\n",
    "# Note: We set max_iterations to 2000 because this is relatively slow. However,\n",
    "# if you want something more accurate you can increase this value.\n",
    "optimizer = goose.SequenceOptimizer(target_length=len(p53_idr), \n",
    "                                   max_iterations=2000)\n",
    "\n",
    "# Disorder constraints\n",
    "optimizer.add_property(goose.FractionDisorder, \n",
    "                      target_value=1, \n",
    "                      weight=1)\n",
    "\n",
    "optimizer.add_property(goose.MatchSelfIntermap,\n",
    "                      target_sequence=p53_idr)\n",
    "\n",
    "example1_seq=optimizer.run()"
   ]
  },
  {
   "cell_type": "code",
   "execution_count": null,
   "id": "7e970ccd",
   "metadata": {},
   "outputs": [],
   "source": [
    "# function to return the matrix we want to graph. \n",
    "def calculate_matrix(seq1, seq2, mod, window_size=15):\n",
    "    return mod.intermolecular_idr_matrix(seq1, seq2,\n",
    "                window_size=window_size, disorder_1=False, disorder_2=False)[0][0]"
   ]
  },
  {
   "cell_type": "code",
   "execution_count": null,
   "id": "ebed0f2c",
   "metadata": {},
   "outputs": [],
   "source": [
    "fig,[a1,a2]=plt.subplots(ncols=2, figsize=[8,5], sharex=True, sharey=True)\n",
    "vsize=4\n",
    "ogmat = calculate_matrix(p53_idr, p53_idr, mf)\n",
    "newmat = calculate_matrix(example1_seq, example1_seq, mf)\n",
    "im1=a1.imshow(ogmat, cmap='PRGn', vmin=-vsize,vmax=vsize)\n",
    "im2=a2.imshow(newmat, cmap='PRGn', vmin=-vsize,vmax=vsize)\n",
    "cbar = fig.colorbar(im1, orientation='horizontal')\n",
    "cbar = fig.colorbar(im2, orientation='horizontal')\n",
    "a1.set_title('P53 self interaction')\n",
    "a2.set_title('Variant self interaction')\n",
    "plt.show()"
   ]
  },
  {
   "cell_type": "markdown",
   "id": "f0956d05",
   "metadata": {},
   "source": [
    "# Example 2: Creating a sequence with decreased repuslsive interactions and increased attractive interactions"
   ]
  },
  {
   "cell_type": "code",
   "execution_count": null,
   "id": "85bf8674",
   "metadata": {},
   "outputs": [],
   "source": [
    "# Example 2: Creating a sequence with decreased repuslsive interactions and increased attractive interactions\n",
    "# based on p53\n",
    "# Note: We set max_iterations to 3000 because this is relatively slow. However,\n",
    "# if you want something more accurate you can increase this value.\n",
    "optimizer = goose.SequenceOptimizer(target_length=len(p53_idr), \n",
    "                                   max_iterations=3000)\n",
    "\n",
    "# Disorder constraints\n",
    "optimizer.add_property(goose.FractionDisorder, \n",
    "                      target_value=1, \n",
    "                      weight=1)\n",
    "\n",
    "# set both sequences to p53_idr because we want to modify the self interaction matrix\n",
    "# also set homotypic_interaction to True because we are modifying a self interaction matrix. \n",
    "# this is necessary here because this class can also be used for heterotypic interactions.\n",
    "optimizer.add_property(goose.ModifyMatrixValues,\n",
    "                       sequence=p53_idr,\n",
    "                       target_sequence=p53_idr,\n",
    "                       homotypic_interaction=True,\n",
    "                       repulsive_multiplier=0.5,\n",
    "                       attractive_multiplier=2)\n",
    "\n",
    "example2_seq=optimizer.run()"
   ]
  },
  {
   "cell_type": "code",
   "execution_count": null,
   "id": "d9ed748a",
   "metadata": {},
   "outputs": [],
   "source": [
    "fig,[a1,a2]=plt.subplots(ncols=2, figsize=[8,5], sharex=True, sharey=True)\n",
    "vsize=4\n",
    "ogmat = calculate_matrix(p53_idr, p53_idr, mf)\n",
    "newmat = calculate_matrix(example2_seq, example2_seq, mf)\n",
    "im1=a1.imshow(ogmat, cmap='PRGn', vmin=-vsize,vmax=vsize)\n",
    "im2=a2.imshow(newmat, cmap='PRGn', vmin=-vsize,vmax=vsize)\n",
    "cbar = fig.colorbar(im1, orientation='horizontal')\n",
    "cbar = fig.colorbar(im2, orientation='horizontal')\n",
    "a1.set_title('P53 self interaction')\n",
    "a2.set_title('Variant self interaction')\n",
    "plt.show()"
   ]
  },
  {
   "cell_type": "markdown",
   "id": "9239d661",
   "metadata": {},
   "source": [
    "# Example 3: Creating a sequence based on the interaction matrix of 2 sequences."
   ]
  },
  {
   "cell_type": "code",
   "execution_count": null,
   "id": "62063c5b",
   "metadata": {},
   "outputs": [],
   "source": [
    "h1='VGASGSFRLAKSDEPKKSVAFKKTKKEIKKVATPKKASKPKKAASKAPTKKPKATPVKKAKKKLAATPKKAKKPKTVKAKPVKASKPKKAKPVKPKAKSSAKRAGKKK'\n",
    "prota='MSDAAVDTSSEITTKDLKEKKEVVEEAENGRDAPANGNAENEENGEQEADNEVDEEEEEGGEEEEEEEEGDGEEEDGDEDEEAESATGKRAAEDDEDDDVDTKKQKTDEDD'"
   ]
  },
  {
   "cell_type": "markdown",
   "id": "3e0f3d6d",
   "metadata": {},
   "source": [
    "**Warning: The following example takes a few minutes to generate the sequence!**"
   ]
  },
  {
   "cell_type": "code",
   "execution_count": null,
   "id": "636fb455",
   "metadata": {},
   "outputs": [],
   "source": [
    "# Create optimizer\n",
    "optimizer = goose.SequenceOptimizer(target_length=len(h1), verbose=True,\n",
    "                                   max_iterations=5000)\n",
    "\n",
    "\n",
    "# Disorder constraints\n",
    "optimizer.add_property(goose.FractionDisorder, \n",
    "                      target_value=1, \n",
    "                      weight=1)\n",
    "\n",
    "# setting attractive and repulsive multipliers to 1 means we want to match the matrix\n",
    "optimizer.add_property(goose.ModifyMatrixValues,\n",
    "                      sequence=h1,\n",
    "                       target_sequence=prota,\n",
    "                       attractive_multiplier=1.0,\n",
    "                       repulsive_multiplier= 1.0,\n",
    "                       weight=2)\n",
    "\n",
    "\n",
    "example3_seq=optimizer.run()"
   ]
  },
  {
   "cell_type": "code",
   "execution_count": null,
   "id": "c3f9e946",
   "metadata": {},
   "outputs": [],
   "source": [
    "fig,[a1,a2]=plt.subplots(ncols=2, figsize=[8,5], sharex=True, sharey=True)\n",
    "vsize=15\n",
    "ogmat = calculate_matrix(h1, prota, mf)\n",
    "newmat = calculate_matrix(example3_seq, prota, mf)\n",
    "im1=a1.imshow(ogmat, cmap='PRGn', vmin=-vsize,vmax=vsize)\n",
    "im2=a2.imshow(newmat, cmap='PRGn', vmin=-vsize,vmax=vsize)\n",
    "cbar = fig.colorbar(im1, orientation='horizontal')\n",
    "cbar = fig.colorbar(im2, orientation='horizontal')\n",
    "a1.set_title('H1/Prota interaction')\n",
    "a2.set_title('H1(synthetic)/Prota \\n interaction')\n",
    "plt.show()"
   ]
  },
  {
   "cell_type": "markdown",
   "id": "3818b6e7",
   "metadata": {},
   "source": [
    "# Example 4: designing a sequence towards an arbitrary matrix"
   ]
  },
  {
   "cell_type": "code",
   "execution_count": null,
   "id": "8768621b",
   "metadata": {},
   "outputs": [],
   "source": [
    "# import tool to modify matrix\n",
    "from goose.backend.optimizer_tools import MatrixManipulation"
   ]
  },
  {
   "cell_type": "code",
   "execution_count": null,
   "id": "cb1133cb",
   "metadata": {},
   "outputs": [],
   "source": [
    "test_mat=np.array([[-2,-1,0,1,2],\n",
    "                     [-1,-1,0,1,1],\n",
    "                     [0,0,0,0,0],\n",
    "                     [1,1,0,1,2],\n",
    "                     [2,1,0,1,2]])\n",
    "test_mat=MatrixManipulation.scale_matrix_to_size(test_mat, (26,26))"
   ]
  },
  {
   "cell_type": "code",
   "execution_count": null,
   "id": "543609aa",
   "metadata": {},
   "outputs": [],
   "source": [
    "# Create optimizer\n",
    "optimizer = goose.SequenceOptimizer(target_length=50,\n",
    "                                   max_iterations=5000)\n",
    "\n",
    "\n",
    "optimizer.add_property(goose.MatchArbitraryMatrix,\n",
    "                       arbitrary_matrix=test_mat,\n",
    "                       weight=5)\n",
    "\n",
    "\n",
    "example4_seq=optimizer.run()"
   ]
  },
  {
   "cell_type": "code",
   "execution_count": null,
   "id": "0a38e838",
   "metadata": {},
   "outputs": [],
   "source": [
    "fig,[a1,a2]=plt.subplots(ncols=2, figsize=[8,5])#, sharex=True, sharey=True)\n",
    "vsize=4\n",
    "ogmat = test_mat\n",
    "newmat = calculate_matrix(example4_seq, example4_seq, mf)\n",
    "im1=a1.imshow(ogmat, cmap='PRGn', vmin=-vsize,vmax=vsize)\n",
    "im2=a2.imshow(newmat, cmap='PRGn', vmin=-vsize,vmax=vsize)\n",
    "cbar = fig.colorbar(im1, orientation='horizontal')\n",
    "cbar = fig.colorbar(im2, orientation='horizontal')\n",
    "a1.set_title('arbitrary matrix')\n",
    "a2.set_title('generated seq')\n",
    "plt.show()"
   ]
  },
  {
   "cell_type": "code",
   "execution_count": null,
   "id": "fc6088d5",
   "metadata": {},
   "outputs": [],
   "source": []
  }
 ],
 "metadata": {
  "kernelspec": {
   "display_name": "test_goose_py311",
   "language": "python",
   "name": "python3"
  },
  "language_info": {
   "codemirror_mode": {
    "name": "ipython",
    "version": 3
   },
   "file_extension": ".py",
   "mimetype": "text/x-python",
   "name": "python",
   "nbconvert_exporter": "python",
   "pygments_lexer": "ipython3",
   "version": "3.11.13"
  }
 },
 "nbformat": 4,
 "nbformat_minor": 5
}
