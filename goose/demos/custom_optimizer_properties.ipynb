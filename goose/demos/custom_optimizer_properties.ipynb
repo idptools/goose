{
 "cells": [
  {
   "cell_type": "markdown",
   "id": "6e85120f",
   "metadata": {},
   "source": [
    "# Custom ProteinProperty Classes with SequenceOptimizer\n",
    "\n",
    "This notebook demonstrates how to define your own custom `ProteinProperty` class for use with the `SequenceOptimizer` in GOOSE. You will learn how to:\n",
    "- Create a custom property class by subclassing `ProteinProperty`\n",
    "- Use it with the optimizer to design sequences with custom constraints\n",
    "- Analyze the results\n"
   ]
  },
  {
   "cell_type": "code",
   "execution_count": 1,
   "id": "b6dd568e",
   "metadata": {},
   "outputs": [],
   "source": [
    "import goose\n",
    "from goose.optimize import SequenceOptimizer\n",
    "from goose.backend.optimizer_properties import ProteinProperty\n",
    "from sparrow import Protein\n"
   ]
  },
  {
   "cell_type": "markdown",
   "id": "ac6e7db1",
   "metadata": {},
   "source": [
    "## Define a Custom ProteinProperty\n",
    "\n",
    "Let's define a property that targets a specific count of Alanine ('A') residues in the sequence. We'll call it `AlanineCount`."
   ]
  },
  {
   "cell_type": "code",
   "execution_count": 8,
   "id": "0c3992c7",
   "metadata": {},
   "outputs": [],
   "source": [
    "class AlanineCount(ProteinProperty):\n",
    "    def __init__(self, target_value: float, weight: float = 1.0):\n",
    "        super().__init__(target_value, weight)\n",
    "    def calculate(self, protein: 'sparrow.Protein') -> float:\n",
    "        return float(protein.sequence.count('A'))\n"
   ]
  },
  {
   "cell_type": "markdown",
   "id": "ee9c141f",
   "metadata": {},
   "source": [
    "## Initialize SequenceOptimizer\n",
    "\n",
    "Create an optimizer instance for a short sequence (e.g., length 30)."
   ]
  },
  {
   "cell_type": "code",
   "execution_count": 9,
   "id": "e0ed48b2",
   "metadata": {},
   "outputs": [
    {
     "name": "stderr",
     "output_type": "stream",
     "text": [
      "2025-05-12 11:11:02,300 - INFO - Using amino_acids.py for kmer properties\n"
     ]
    }
   ],
   "source": [
    "optimizer = SequenceOptimizer(target_length=30, verbose=True, gap_to_report=50)\n"
   ]
  },
  {
   "cell_type": "markdown",
   "id": "5b1297a7",
   "metadata": {},
   "source": [
    "## Add the Custom Property\n",
    "\n",
    "Add the `AlanineCount` property to the optimizer, targeting 5 Alanines in the sequence."
   ]
  },
  {
   "cell_type": "code",
   "execution_count": 10,
   "id": "e54d00dd",
   "metadata": {},
   "outputs": [
    {
     "name": "stderr",
     "output_type": "stream",
     "text": [
      "2025-05-12 11:11:03,013 - INFO - Added new property AlanineCount\n"
     ]
    }
   ],
   "source": [
    "optimizer.add_property(AlanineCount, target_value=5.0, weight=1.0)\n"
   ]
  },
  {
   "cell_type": "markdown",
   "id": "ddab782c",
   "metadata": {},
   "source": [
    "## Set Optimization Parameters\n",
    "\n",
    "Configure the optimizer for a quick run."
   ]
  },
  {
   "cell_type": "code",
   "execution_count": 11,
   "id": "911ae751",
   "metadata": {},
   "outputs": [],
   "source": [
    "optimizer.set_optimization_params(max_iterations=5000, tolerance=0.1)\n"
   ]
  },
  {
   "cell_type": "markdown",
   "id": "fb08d8f4",
   "metadata": {},
   "source": [
    "## Run the Optimization\n",
    "\n",
    "Run the optimizer and get the best sequence found."
   ]
  },
  {
   "cell_type": "code",
   "execution_count": 17,
   "id": "f0c0852a",
   "metadata": {},
   "outputs": [
    {
     "name": "stderr",
     "output_type": "stream",
     "text": [
      "2025-05-12 11:12:03,116 - INFO - Starting sequence optimization\n"
     ]
    },
    {
     "name": "stdout",
     "output_type": "stream",
     "text": [
      "Starting optimization...\n"
     ]
    },
    {
     "name": "stderr",
     "output_type": "stream",
     "text": [
      "Best Error = 3.00:   1%|          | 50/5000 [00:00<00:00, 14885.03it/s]\n",
      "2025-05-12 11:12:03,122 - INFO - Sequence optimization completed\n",
      "2025-05-12 11:12:03,122 - INFO - Optimized Sequence: TKKIKYAVLAVKMLIVRKRNGIAPFIDRAA\n",
      "2025-05-12 11:12:03,123 - INFO - AlanineCount: 5.00 (Target: 5.00)\n"
     ]
    },
    {
     "name": "stdout",
     "output_type": "stream",
     "text": [
      "Iteration 0: Best Error = 4.0\n",
      "Iteration 0: Best Sequence = TKKIKYNVLNVKMLIVRKRNGIAPFIDRTC\n",
      "Iteration 0: Target AlanineCount = 5.000\n",
      "Iteration 0: Current AlanineCount = 1.000\n",
      "Iteration 50: Best Error = 3.0\n",
      "Iteration 50: Best Sequence = TKKIKYAVLNVKMLIVRKRNGIAPFIDRTC\n",
      "Iteration 50: Target AlanineCount = 5.000\n",
      "Iteration 50: Current AlanineCount = 2.000\n",
      "Custom Optimized Sequence: TKKIKYAVLAVKMLIVRKRNGIAPFIDRAA\n",
      "\n",
      "Final sequence: TKKIKYAVLAVKMLIVRKRNGIAPFIDRAA\n",
      "Final sequence alanine count: 5\n"
     ]
    }
   ],
   "source": [
    "print(\"Starting optimization...\")\n",
    "custom_sequence = optimizer.run()\n",
    "print(f\"Custom Optimized Sequence: {custom_sequence}\")\n",
    "print(f'\\nFinal sequence: {custom_sequence}')\n",
    "print(f'Final sequence alanine count: {custom_sequence.count(\"A\")}')"
   ]
  },
  {
   "cell_type": "markdown",
   "id": "107e78e9",
   "metadata": {},
   "source": [
    "---\n",
    "\n",
    "**Tips:**\n",
    "- You can define any property you want by subclassing `ProteinProperty` and implementing the `calculate` method.\n",
    "- You can combine your custom property with built-in properties for multi-objective optimization.\n",
    "- The `calculate` method receives a `sparrow.Protein` object, so you can use any of its methods or attributes.\n",
    "- For more complicated examples, check out the epsilon-based properties in ``goose/backend/optimizer_properties.py``!\n",
    "\n",
    "\n",
    "Try defining other custom properties, such as targeting a specific motif, amino acid fraction, or any sequence-derived metric!"
   ]
  },
  {
   "cell_type": "markdown",
   "id": "cf8a3b1c",
   "metadata": {},
   "source": []
  }
 ],
 "metadata": {
  "kernelspec": {
   "display_name": "test_goose",
   "language": "python",
   "name": "python3"
  },
  "language_info": {
   "codemirror_mode": {
    "name": "ipython",
    "version": 3
   },
   "file_extension": ".py",
   "mimetype": "text/x-python",
   "name": "python",
   "nbconvert_exporter": "python",
   "pygments_lexer": "ipython3",
   "version": "3.8.13"
  }
 },
 "nbformat": 4,
 "nbformat_minor": 5
}
